{
 "cells": [
  {
   "cell_type": "markdown",
   "metadata": {},
   "source": [
    "\n",
    " # Steady-state distributions of the Fockker Planck equation on the circle"
   ]
  },
  {
   "cell_type": "code",
   "execution_count": 4,
   "metadata": {},
   "outputs": [],
   "source": [
    "import numpy as np\n",
    "import matplotlib.pyplot as plt"
   ]
  },
  {
   "cell_type": "code",
   "execution_count": 5,
   "metadata": {},
   "outputs": [],
   "source": [
    "eps = 1/100\n",
    "beta = 5.0"
   ]
  },
  {
   "cell_type": "markdown",
   "metadata": {},
   "source": [
    "## The modified heat equation\n",
    "$$\n",
    "\\frac{\\partial \\rho}{\\partial t} = \\frac{1}{\\beta}\\,\n",
    "\\frac{\\partial^2  }{\\partial x^2}\n",
    "\\left( \\left(\\epsilon^2 + \\phi^{2}(x)\\right)\\rho \\right)\n",
    "$$\n",
    "The steady-state disribution is given by\n",
    "$$\n",
    "\\rho^{ss}(x) = \\frac{c}{\\epsilon^2 + \\phi^{2}(x)}\n",
    "$$\n",
    "where \n",
    "$$\n",
    "\\frac{1}{c} = \\int_{0}^{2\\pi}\\frac{1}{\\left(\\epsilon^2 + \\phi^{2}(x)\\right)}\\,dx \n",
    "$$"
   ]
  },
  {
   "cell_type": "markdown",
   "metadata": {},
   "source": [
    "## SDE with null drifft\n",
    "$$\n",
    "dX = \\sqrt{   \\frac{2\\left(\\epsilon^2 + \\phi^{2}(x)\\right)}{\\beta} }\\, dW\n",
    "$$"
   ]
  },
  {
   "cell_type": "code",
   "execution_count": 6,
   "metadata": {},
   "outputs": [],
   "source": [
    "nsteps = 3000\n",
    "dt = 1/10000"
   ]
  },
  {
   "cell_type": "code",
   "execution_count": 7,
   "metadata": {},
   "outputs": [],
   "source": [
    "def phi_walk(x):\n",
    "    for i in  range(nsteps):\n",
    "        eigmd = np.sin(x)\n",
    "        dw = np.sqrt(dt)*np.random.normal(0, 1) \n",
    "        x = x + np.sqrt(2/beta)*np.sqrt((eigmd)**2+ eps**2)*dw\n",
    "    return np.abs(x-int(x/(2*np.pi))*2*np.pi) "
   ]
  },
  {
   "cell_type": "code",
   "execution_count": 8,
   "metadata": {},
   "outputs": [],
   "source": [
    "init=np.random.uniform(low=0.0, high=2*np.pi, size=200)"
   ]
  },
  {
   "cell_type": "code",
   "execution_count": 9,
   "metadata": {
    "format": "row"
   },
   "outputs": [],
   "source": [
    "dta = list(map(phi_walk, init))"
   ]
  },
  {
   "cell_type": "code",
   "execution_count": 10,
   "metadata": {},
   "outputs": [],
   "source": [
    "def helpf(x): return 1/( eps**2 + np.sin(x)**2)\n",
    "from scipy.integrate import quad\n",
    "c, err = quad(helpf, 0, 2*np.pi) "
   ]
  },
  {
   "cell_type": "code",
   "execution_count": 11,
   "metadata": {},
   "outputs": [],
   "source": [
    "ejex1 = np.linspace(0,   np.pi, 1000)\n",
    "ejey1 = helpf(ejex1)/c\n",
    "ejex2 = np.linspace(np.pi, 2*np.pi, 1000)\n",
    "ejey2 = helpf(ejex2)/c"
   ]
  },
  {
   "cell_type": "code",
   "execution_count": 18,
   "metadata": {},
   "outputs": [
    {
     "data": {
      "image/png": "[encoded data removed]",
      "text/plain": [
       "<Figure size 720x216 with 1 Axes>"
      ]
     },
     "metadata": {},
     "output_type": "display_data"
    }
   ],
   "source": [
    "fig = plt.figure(figsize=(10,3))\n",
    "ax = fig.add_subplot(111)\n",
    "ax.plot(ejex1,ejey1, linewidth=4,   color = 'blue')\n",
    "ax.plot(ejex2,ejey2, linewidth=4,  color = 'blue')\n",
    "plt.show()"
   ]
  },
  {
   "cell_type": "code",
   "execution_count": 20,
   "metadata": {},
   "outputs": [
    {
     "data": {
      "image/png": "[encoded data removed]",
      "text/plain": [
       "<Figure size 720x216 with 1 Axes>"
      ]
     },
     "metadata": {},
     "output_type": "display_data"
    }
   ],
   "source": [
    "fig = plt.figure(figsize=(10,3))\n",
    "ax = fig.add_subplot(111)\n",
    "#ax.hist(init, bins = 150, alpha = 0.5)\n",
    "ax.hist(dta, bins = 100, density = True, color = 'red')\n",
    "#ax.plot(ejex1,ejey1, linewidth=4, alpha = 0.5)\n",
    "#ax.plot(ejex2,ejey2, linewidth=4, alpha = 0.5)\n",
    "plt.show()"
   ]
  },
  {
   "cell_type": "code",
   "execution_count": 21,
   "metadata": {
    "format": "row"
   },
   "outputs": [
    {
     "data": {
      "image/png": "[encoded data removed]",
      "text/plain": [
       "<Figure size 720x216 with 1 Axes>"
      ]
     },
     "metadata": {},
     "output_type": "display_data"
    }
   ],
   "source": [
    "fig = plt.figure(figsize=(10,3))\n",
    "ax = fig.add_subplot(111)\n",
    "#ax.hist(init, bins = 150, alpha = 0.5)\n",
    "ax.hist(dta, bins = 100, alpha = 0.26, density = True, color = 'red')\n",
    "ax.plot(ejex1,ejey1, linewidth=4, alpha = 0.5, color = 'blue') \n",
    "ax.plot(ejex2,ejey2, linewidth=4, alpha = 0.5, color = 'blue') \n",
    "plt.show()"
   ]
  },
  {
   "cell_type": "code",
   "execution_count": null,
   "metadata": {},
   "outputs": [],
   "source": []
  }
 ],
 "metadata": {
  "kernelspec": {
   "display_name": "Python 3",
   "language": "python",
   "name": "python3"
  },
  "language_info": {
   "codemirror_mode": {
    "name": "ipython",
    "version": 3
   },
   "file_extension": ".py",
   "mimetype": "text/x-python",
   "name": "python",
   "nbconvert_exporter": "python",
   "pygments_lexer": "ipython3",
   "version": "3.5.5"
  }
 },
 "nbformat": 4,
 "nbformat_minor": 2
}
